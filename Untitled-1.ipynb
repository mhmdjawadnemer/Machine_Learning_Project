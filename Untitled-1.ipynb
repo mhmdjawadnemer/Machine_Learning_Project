{
 "cells": [
  {
   "cell_type": "code",
   "execution_count": 1,
   "metadata": {},
   "outputs": [],
   "source": [
    "import pandas as pd\n",
    "import numpy as np\n",
    "from sklearn.model_selection import train_test_split\n",
    "from sklearn.preprocessing import StandardScaler, LabelEncoder\n",
    "from sklearn.metrics import classification_report, accuracy_score\n",
    "from tensorflow.keras.models import Sequential\n",
    "from tensorflow.keras.layers import Dense, Dropout\n",
    "from tensorflow.keras.utils import to_categorical\n"
   ]
  },
  {
   "cell_type": "code",
   "execution_count": 3,
   "metadata": {},
   "outputs": [
    {
     "name": "stdout",
     "output_type": "stream",
     "text": [
      "<class 'pandas.core.frame.DataFrame'>\n",
      "RangeIndex: 303 entries, 0 to 302\n",
      "Data columns (total 14 columns):\n",
      " #   Column    Non-Null Count  Dtype  \n",
      "---  ------    --------------  -----  \n",
      " 0   age       303 non-null    int64  \n",
      " 1   sex       303 non-null    int64  \n",
      " 2   cp        303 non-null    int64  \n",
      " 3   trestbps  303 non-null    int64  \n",
      " 4   chol      303 non-null    int64  \n",
      " 5   fbs       303 non-null    int64  \n",
      " 6   restecg   303 non-null    int64  \n",
      " 7   thalach   303 non-null    int64  \n",
      " 8   exang     303 non-null    int64  \n",
      " 9   oldpeak   303 non-null    float64\n",
      " 10  slope     303 non-null    int64  \n",
      " 11  ca        303 non-null    int64  \n",
      " 12  thal      303 non-null    int64  \n",
      " 13  target    303 non-null    int64  \n",
      "dtypes: float64(1), int64(13)\n",
      "memory usage: 33.3 KB\n",
      "None\n",
      "   age  sex  cp  trestbps  chol  fbs  restecg  thalach  exang  oldpeak  slope  \\\n",
      "0   63    1   3       145   233    1        0      150      0      2.3      0   \n",
      "1   37    1   2       130   250    0        1      187      0      3.5      0   \n",
      "2   41    0   1       130   204    0        0      172      0      1.4      2   \n",
      "3   56    1   1       120   236    0        1      178      0      0.8      2   \n",
      "4   57    0   0       120   354    0        1      163      1      0.6      2   \n",
      "\n",
      "   ca  thal  target  \n",
      "0   0     1       1  \n",
      "1   0     2       1  \n",
      "2   0     2       1  \n",
      "3   0     2       1  \n",
      "4   0     2       1  \n"
     ]
    }
   ],
   "source": [
    "# Load the dataset\n",
    "data = pd.read_csv('/Users/JAWAD/Videos/MLintern/heart.csv')\n",
    "\n",
    "# Display basic information about the dataset\n",
    "print(data.info())\n",
    "print(data.head())\n"
   ]
  },
  {
   "cell_type": "code",
   "execution_count": 4,
   "metadata": {},
   "outputs": [],
   "source": [
    "# Fill missing values or drop rows/columns with missing values\n",
    "data = data.dropna()  # Or you can use data.fillna(method='ffill') or any other strategy\n",
    "\n",
    "# Encode categorical features\n",
    "data = pd.get_dummies(data, drop_first=True)\n",
    "\n",
    "# Separate features and target variable\n",
    "X = data.drop('target', axis=1)  # Replace 'target' with the actual name of your target column\n",
    "y = data['target']\n"
   ]
  },
  {
   "cell_type": "code",
   "execution_count": 5,
   "metadata": {},
   "outputs": [],
   "source": [
    "# Encode the target labels if necessary\n",
    "le = LabelEncoder()\n",
    "y = le.fit_transform(y)\n",
    "y = to_categorical(y)\n",
    "\n",
    "# Split the data\n",
    "X_train, X_test, y_train, y_test = train_test_split(X, y, test_size=0.2, random_state=42)\n",
    "\n",
    "# Normalize the features\n",
    "scaler = StandardScaler()\n",
    "X_train = scaler.fit_transform(X_train)\n",
    "X_test = scaler.transform(X_test)\n"
   ]
  },
  {
   "cell_type": "code",
   "execution_count": 6,
   "metadata": {},
   "outputs": [
    {
     "name": "stdout",
     "output_type": "stream",
     "text": [
      "Epoch 1/50\n"
     ]
    },
    {
     "name": "stderr",
     "output_type": "stream",
     "text": [
      "c:\\Users\\JAWAD\\anaconda3\\envs\\Jupyter\\Lib\\site-packages\\keras\\src\\layers\\core\\dense.py:87: UserWarning: Do not pass an `input_shape`/`input_dim` argument to a layer. When using Sequential models, prefer using an `Input(shape)` object as the first layer in the model instead.\n",
      "  super().__init__(activity_regularizer=activity_regularizer, **kwargs)\n"
     ]
    },
    {
     "name": "stdout",
     "output_type": "stream",
     "text": [
      "8/8 - 1s - 141ms/step - accuracy: 0.6157 - loss: 0.6892 - val_accuracy: 0.7377 - val_loss: 0.5859\n",
      "Epoch 2/50\n",
      "8/8 - 0s - 6ms/step - accuracy: 0.6446 - loss: 0.6249 - val_accuracy: 0.8361 - val_loss: 0.5240\n",
      "Epoch 3/50\n",
      "8/8 - 0s - 6ms/step - accuracy: 0.7107 - loss: 0.5494 - val_accuracy: 0.8525 - val_loss: 0.4784\n",
      "Epoch 4/50\n",
      "8/8 - 0s - 7ms/step - accuracy: 0.7107 - loss: 0.5224 - val_accuracy: 0.8361 - val_loss: 0.4484\n",
      "Epoch 5/50\n",
      "8/8 - 0s - 8ms/step - accuracy: 0.7231 - loss: 0.5228 - val_accuracy: 0.8361 - val_loss: 0.4259\n",
      "Epoch 6/50\n",
      "8/8 - 0s - 6ms/step - accuracy: 0.7727 - loss: 0.4982 - val_accuracy: 0.8525 - val_loss: 0.4080\n",
      "Epoch 7/50\n",
      "8/8 - 0s - 8ms/step - accuracy: 0.7975 - loss: 0.4653 - val_accuracy: 0.8689 - val_loss: 0.3920\n",
      "Epoch 8/50\n",
      "8/8 - 0s - 6ms/step - accuracy: 0.7810 - loss: 0.4449 - val_accuracy: 0.8852 - val_loss: 0.3814\n",
      "Epoch 9/50\n",
      "8/8 - 0s - 5ms/step - accuracy: 0.8099 - loss: 0.4230 - val_accuracy: 0.8852 - val_loss: 0.3741\n",
      "Epoch 10/50\n",
      "8/8 - 0s - 6ms/step - accuracy: 0.7975 - loss: 0.3860 - val_accuracy: 0.8852 - val_loss: 0.3722\n",
      "Epoch 11/50\n",
      "8/8 - 0s - 6ms/step - accuracy: 0.8306 - loss: 0.4086 - val_accuracy: 0.8852 - val_loss: 0.3683\n",
      "Epoch 12/50\n",
      "8/8 - 0s - 7ms/step - accuracy: 0.8140 - loss: 0.3891 - val_accuracy: 0.8852 - val_loss: 0.3738\n",
      "Epoch 13/50\n",
      "8/8 - 0s - 6ms/step - accuracy: 0.8306 - loss: 0.3768 - val_accuracy: 0.8852 - val_loss: 0.3732\n",
      "Epoch 14/50\n",
      "8/8 - 0s - 7ms/step - accuracy: 0.8182 - loss: 0.4015 - val_accuracy: 0.8852 - val_loss: 0.3769\n",
      "Epoch 15/50\n",
      "8/8 - 0s - 6ms/step - accuracy: 0.8306 - loss: 0.3615 - val_accuracy: 0.8852 - val_loss: 0.3793\n",
      "Epoch 16/50\n",
      "8/8 - 0s - 6ms/step - accuracy: 0.8223 - loss: 0.3910 - val_accuracy: 0.8852 - val_loss: 0.3786\n",
      "Epoch 17/50\n",
      "8/8 - 0s - 6ms/step - accuracy: 0.8306 - loss: 0.3810 - val_accuracy: 0.8852 - val_loss: 0.3804\n",
      "Epoch 18/50\n",
      "8/8 - 0s - 8ms/step - accuracy: 0.8017 - loss: 0.3641 - val_accuracy: 0.8852 - val_loss: 0.3883\n",
      "Epoch 19/50\n",
      "8/8 - 0s - 7ms/step - accuracy: 0.8554 - loss: 0.3684 - val_accuracy: 0.8852 - val_loss: 0.3884\n",
      "Epoch 20/50\n",
      "8/8 - 0s - 6ms/step - accuracy: 0.8678 - loss: 0.3394 - val_accuracy: 0.8852 - val_loss: 0.3882\n",
      "Epoch 21/50\n",
      "8/8 - 0s - 8ms/step - accuracy: 0.8802 - loss: 0.3102 - val_accuracy: 0.8852 - val_loss: 0.3876\n",
      "Epoch 22/50\n",
      "8/8 - 0s - 6ms/step - accuracy: 0.8636 - loss: 0.3588 - val_accuracy: 0.8852 - val_loss: 0.3887\n",
      "Epoch 23/50\n",
      "8/8 - 0s - 6ms/step - accuracy: 0.8430 - loss: 0.3286 - val_accuracy: 0.8852 - val_loss: 0.3941\n",
      "Epoch 24/50\n",
      "8/8 - 0s - 7ms/step - accuracy: 0.8760 - loss: 0.3244 - val_accuracy: 0.8852 - val_loss: 0.4016\n",
      "Epoch 25/50\n",
      "8/8 - 0s - 6ms/step - accuracy: 0.8554 - loss: 0.3422 - val_accuracy: 0.8852 - val_loss: 0.4101\n",
      "Epoch 26/50\n",
      "8/8 - 0s - 7ms/step - accuracy: 0.8719 - loss: 0.3188 - val_accuracy: 0.8852 - val_loss: 0.4191\n",
      "Epoch 27/50\n",
      "8/8 - 0s - 7ms/step - accuracy: 0.8760 - loss: 0.2949 - val_accuracy: 0.8852 - val_loss: 0.4227\n",
      "Epoch 28/50\n",
      "8/8 - 0s - 7ms/step - accuracy: 0.8388 - loss: 0.3568 - val_accuracy: 0.8852 - val_loss: 0.4242\n",
      "Epoch 29/50\n",
      "8/8 - 0s - 7ms/step - accuracy: 0.8554 - loss: 0.3020 - val_accuracy: 0.8852 - val_loss: 0.4252\n",
      "Epoch 30/50\n",
      "8/8 - 0s - 5ms/step - accuracy: 0.8843 - loss: 0.3221 - val_accuracy: 0.8852 - val_loss: 0.4252\n",
      "Epoch 31/50\n",
      "8/8 - 0s - 6ms/step - accuracy: 0.8802 - loss: 0.2763 - val_accuracy: 0.8852 - val_loss: 0.4285\n",
      "Epoch 32/50\n",
      "8/8 - 0s - 5ms/step - accuracy: 0.8595 - loss: 0.3224 - val_accuracy: 0.8852 - val_loss: 0.4366\n",
      "Epoch 33/50\n",
      "8/8 - 0s - 8ms/step - accuracy: 0.8884 - loss: 0.2746 - val_accuracy: 0.8852 - val_loss: 0.4426\n",
      "Epoch 34/50\n",
      "8/8 - 0s - 7ms/step - accuracy: 0.8802 - loss: 0.2872 - val_accuracy: 0.8852 - val_loss: 0.4479\n",
      "Epoch 35/50\n",
      "8/8 - 0s - 7ms/step - accuracy: 0.8967 - loss: 0.2843 - val_accuracy: 0.8852 - val_loss: 0.4559\n",
      "Epoch 36/50\n",
      "8/8 - 0s - 7ms/step - accuracy: 0.8678 - loss: 0.2812 - val_accuracy: 0.8852 - val_loss: 0.4578\n",
      "Epoch 37/50\n",
      "8/8 - 0s - 6ms/step - accuracy: 0.8802 - loss: 0.3108 - val_accuracy: 0.8852 - val_loss: 0.4630\n",
      "Epoch 38/50\n",
      "8/8 - 0s - 7ms/step - accuracy: 0.8760 - loss: 0.2643 - val_accuracy: 0.8852 - val_loss: 0.4664\n",
      "Epoch 39/50\n",
      "8/8 - 0s - 6ms/step - accuracy: 0.8802 - loss: 0.3058 - val_accuracy: 0.8852 - val_loss: 0.4693\n",
      "Epoch 40/50\n",
      "8/8 - 0s - 6ms/step - accuracy: 0.8554 - loss: 0.3265 - val_accuracy: 0.8852 - val_loss: 0.4683\n",
      "Epoch 41/50\n",
      "8/8 - 0s - 5ms/step - accuracy: 0.8802 - loss: 0.3012 - val_accuracy: 0.8852 - val_loss: 0.4679\n",
      "Epoch 42/50\n",
      "8/8 - 0s - 6ms/step - accuracy: 0.8843 - loss: 0.2645 - val_accuracy: 0.8852 - val_loss: 0.4700\n",
      "Epoch 43/50\n",
      "8/8 - 0s - 5ms/step - accuracy: 0.8678 - loss: 0.3108 - val_accuracy: 0.8852 - val_loss: 0.4779\n",
      "Epoch 44/50\n",
      "8/8 - 0s - 5ms/step - accuracy: 0.8554 - loss: 0.2801 - val_accuracy: 0.8852 - val_loss: 0.4881\n",
      "Epoch 45/50\n",
      "8/8 - 0s - 7ms/step - accuracy: 0.8719 - loss: 0.2616 - val_accuracy: 0.8852 - val_loss: 0.4998\n",
      "Epoch 46/50\n",
      "8/8 - 0s - 8ms/step - accuracy: 0.8884 - loss: 0.2843 - val_accuracy: 0.8852 - val_loss: 0.5070\n",
      "Epoch 47/50\n",
      "8/8 - 0s - 5ms/step - accuracy: 0.9050 - loss: 0.2707 - val_accuracy: 0.8852 - val_loss: 0.5093\n",
      "Epoch 48/50\n",
      "8/8 - 0s - 7ms/step - accuracy: 0.9174 - loss: 0.2369 - val_accuracy: 0.8852 - val_loss: 0.5149\n",
      "Epoch 49/50\n",
      "8/8 - 0s - 7ms/step - accuracy: 0.8926 - loss: 0.2726 - val_accuracy: 0.8852 - val_loss: 0.5219\n",
      "Epoch 50/50\n",
      "8/8 - 0s - 7ms/step - accuracy: 0.8967 - loss: 0.2512 - val_accuracy: 0.8852 - val_loss: 0.5217\n"
     ]
    }
   ],
   "source": [
    "# Build the model\n",
    "model = Sequential([\n",
    "    Dense(128, input_shape=(X_train.shape[1],), activation='relu'),\n",
    "    Dropout(0.5),\n",
    "    Dense(64, activation='relu'),\n",
    "    Dropout(0.5),\n",
    "    Dense(y_train.shape[1], activation='softmax')\n",
    "])\n",
    "\n",
    "# Compile the model\n",
    "model.compile(optimizer='adam', loss='categorical_crossentropy', metrics=['accuracy'])\n",
    "\n",
    "# Train the model\n",
    "history = model.fit(X_train, y_train, validation_data=(X_test, y_test), epochs=50, batch_size=32, verbose=2)\n"
   ]
  },
  {
   "cell_type": "code",
   "execution_count": 12,
   "metadata": {},
   "outputs": [
    {
     "name": "stdout",
     "output_type": "stream",
     "text": [
      "Test loss: 0.5217200517654419\n",
      "Test accuracy: 0.8852459192276001\n",
      "\u001b[1m2/2\u001b[0m \u001b[32m━━━━━━━━━━━━━━━━━━━━\u001b[0m\u001b[37m\u001b[0m \u001b[1m0s\u001b[0m 2ms/step \n",
      "Accuracy: 0.8852459016393442\n"
     ]
    },
    {
     "ename": "TypeError",
     "evalue": "object of type 'numpy.int64' has no len()",
     "output_type": "error",
     "traceback": [
      "\u001b[1;31m---------------------------------------------------------------------------\u001b[0m",
      "\u001b[1;31mTypeError\u001b[0m                                 Traceback (most recent call last)",
      "Cell \u001b[1;32mIn[12], line 12\u001b[0m\n\u001b[0;32m      9\u001b[0m y_true \u001b[38;5;241m=\u001b[39m np\u001b[38;5;241m.\u001b[39margmax(y_test, axis\u001b[38;5;241m=\u001b[39m\u001b[38;5;241m1\u001b[39m)\n\u001b[0;32m     11\u001b[0m \u001b[38;5;28mprint\u001b[39m(\u001b[38;5;124m\"\u001b[39m\u001b[38;5;124mAccuracy:\u001b[39m\u001b[38;5;124m\"\u001b[39m, accuracy_score(y_true, y_pred_classes))\n\u001b[1;32m---> 12\u001b[0m \u001b[38;5;28mprint\u001b[39m(classification_report(y_true, y_pred_classes, target_names\u001b[38;5;241m=\u001b[39mle\u001b[38;5;241m.\u001b[39mclasses_))\n",
      "File \u001b[1;32mc:\\Users\\JAWAD\\anaconda3\\envs\\Jupyter\\Lib\\site-packages\\sklearn\\utils\\_param_validation.py:213\u001b[0m, in \u001b[0;36mvalidate_params.<locals>.decorator.<locals>.wrapper\u001b[1;34m(*args, **kwargs)\u001b[0m\n\u001b[0;32m    207\u001b[0m \u001b[38;5;28;01mtry\u001b[39;00m:\n\u001b[0;32m    208\u001b[0m     \u001b[38;5;28;01mwith\u001b[39;00m config_context(\n\u001b[0;32m    209\u001b[0m         skip_parameter_validation\u001b[38;5;241m=\u001b[39m(\n\u001b[0;32m    210\u001b[0m             prefer_skip_nested_validation \u001b[38;5;129;01mor\u001b[39;00m global_skip_validation\n\u001b[0;32m    211\u001b[0m         )\n\u001b[0;32m    212\u001b[0m     ):\n\u001b[1;32m--> 213\u001b[0m         \u001b[38;5;28;01mreturn\u001b[39;00m func(\u001b[38;5;241m*\u001b[39margs, \u001b[38;5;241m*\u001b[39m\u001b[38;5;241m*\u001b[39mkwargs)\n\u001b[0;32m    214\u001b[0m \u001b[38;5;28;01mexcept\u001b[39;00m InvalidParameterError \u001b[38;5;28;01mas\u001b[39;00m e:\n\u001b[0;32m    215\u001b[0m     \u001b[38;5;66;03m# When the function is just a wrapper around an estimator, we allow\u001b[39;00m\n\u001b[0;32m    216\u001b[0m     \u001b[38;5;66;03m# the function to delegate validation to the estimator, but we replace\u001b[39;00m\n\u001b[0;32m    217\u001b[0m     \u001b[38;5;66;03m# the name of the estimator by the name of the function in the error\u001b[39;00m\n\u001b[0;32m    218\u001b[0m     \u001b[38;5;66;03m# message to avoid confusion.\u001b[39;00m\n\u001b[0;32m    219\u001b[0m     msg \u001b[38;5;241m=\u001b[39m re\u001b[38;5;241m.\u001b[39msub(\n\u001b[0;32m    220\u001b[0m         \u001b[38;5;124mr\u001b[39m\u001b[38;5;124m\"\u001b[39m\u001b[38;5;124mparameter of \u001b[39m\u001b[38;5;124m\\\u001b[39m\u001b[38;5;124mw+ must be\u001b[39m\u001b[38;5;124m\"\u001b[39m,\n\u001b[0;32m    221\u001b[0m         \u001b[38;5;124mf\u001b[39m\u001b[38;5;124m\"\u001b[39m\u001b[38;5;124mparameter of \u001b[39m\u001b[38;5;132;01m{\u001b[39;00mfunc\u001b[38;5;241m.\u001b[39m\u001b[38;5;18m__qualname__\u001b[39m\u001b[38;5;132;01m}\u001b[39;00m\u001b[38;5;124m must be\u001b[39m\u001b[38;5;124m\"\u001b[39m,\n\u001b[0;32m    222\u001b[0m         \u001b[38;5;28mstr\u001b[39m(e),\n\u001b[0;32m    223\u001b[0m     )\n",
      "File \u001b[1;32mc:\\Users\\JAWAD\\anaconda3\\envs\\Jupyter\\Lib\\site-packages\\sklearn\\metrics\\_classification.py:2657\u001b[0m, in \u001b[0;36mclassification_report\u001b[1;34m(y_true, y_pred, labels, target_names, sample_weight, digits, output_dict, zero_division)\u001b[0m\n\u001b[0;32m   2655\u001b[0m \u001b[38;5;28;01melse\u001b[39;00m:\n\u001b[0;32m   2656\u001b[0m     longest_last_line_heading \u001b[38;5;241m=\u001b[39m \u001b[38;5;124m\"\u001b[39m\u001b[38;5;124mweighted avg\u001b[39m\u001b[38;5;124m\"\u001b[39m\n\u001b[1;32m-> 2657\u001b[0m     name_width \u001b[38;5;241m=\u001b[39m \u001b[38;5;28mmax\u001b[39m(\u001b[38;5;28mlen\u001b[39m(cn) \u001b[38;5;28;01mfor\u001b[39;00m cn \u001b[38;5;129;01min\u001b[39;00m target_names)\n\u001b[0;32m   2658\u001b[0m     width \u001b[38;5;241m=\u001b[39m \u001b[38;5;28mmax\u001b[39m(name_width, \u001b[38;5;28mlen\u001b[39m(longest_last_line_heading), digits)\n\u001b[0;32m   2659\u001b[0m     head_fmt \u001b[38;5;241m=\u001b[39m \u001b[38;5;124m\"\u001b[39m\u001b[38;5;124m{\u001b[39m\u001b[38;5;124m:>\u001b[39m\u001b[38;5;132;01m{width}\u001b[39;00m\u001b[38;5;124ms} \u001b[39m\u001b[38;5;124m\"\u001b[39m \u001b[38;5;241m+\u001b[39m \u001b[38;5;124m\"\u001b[39m\u001b[38;5;124m \u001b[39m\u001b[38;5;132;01m{:>9}\u001b[39;00m\u001b[38;5;124m\"\u001b[39m \u001b[38;5;241m*\u001b[39m \u001b[38;5;28mlen\u001b[39m(headers)\n",
      "File \u001b[1;32mc:\\Users\\JAWAD\\anaconda3\\envs\\Jupyter\\Lib\\site-packages\\sklearn\\metrics\\_classification.py:2657\u001b[0m, in \u001b[0;36m<genexpr>\u001b[1;34m(.0)\u001b[0m\n\u001b[0;32m   2655\u001b[0m \u001b[38;5;28;01melse\u001b[39;00m:\n\u001b[0;32m   2656\u001b[0m     longest_last_line_heading \u001b[38;5;241m=\u001b[39m \u001b[38;5;124m\"\u001b[39m\u001b[38;5;124mweighted avg\u001b[39m\u001b[38;5;124m\"\u001b[39m\n\u001b[1;32m-> 2657\u001b[0m     name_width \u001b[38;5;241m=\u001b[39m \u001b[38;5;28mmax\u001b[39m(\u001b[38;5;28mlen\u001b[39m(cn) \u001b[38;5;28;01mfor\u001b[39;00m cn \u001b[38;5;129;01min\u001b[39;00m target_names)\n\u001b[0;32m   2658\u001b[0m     width \u001b[38;5;241m=\u001b[39m \u001b[38;5;28mmax\u001b[39m(name_width, \u001b[38;5;28mlen\u001b[39m(longest_last_line_heading), digits)\n\u001b[0;32m   2659\u001b[0m     head_fmt \u001b[38;5;241m=\u001b[39m \u001b[38;5;124m\"\u001b[39m\u001b[38;5;124m{\u001b[39m\u001b[38;5;124m:>\u001b[39m\u001b[38;5;132;01m{width}\u001b[39;00m\u001b[38;5;124ms} \u001b[39m\u001b[38;5;124m\"\u001b[39m \u001b[38;5;241m+\u001b[39m \u001b[38;5;124m\"\u001b[39m\u001b[38;5;124m \u001b[39m\u001b[38;5;132;01m{:>9}\u001b[39;00m\u001b[38;5;124m\"\u001b[39m \u001b[38;5;241m*\u001b[39m \u001b[38;5;28mlen\u001b[39m(headers)\n",
      "\u001b[1;31mTypeError\u001b[0m: object of type 'numpy.int64' has no len()"
     ]
    }
   ],
   "source": [
    "# Evaluate the model\n",
    "score = model.evaluate(X_test, y_test, verbose=0)\n",
    "print('Test loss:', score[0])\n",
    "print('Test accuracy:', score[1])\n",
    "\n",
    "# Make predictions\n",
    "y_pred = model.predict(X_test)\n",
    "y_pred = np.argmax(y_pred, axis=1)\n",
    "y_true = np.argmax(y_test, axis=1)\n",
    "\n",
    "print(\"Accuracy:\", accuracy_score(y_true, y_pred_classes))\n",
    "print(classification_report(y_true, y_pred_classes, target_names=le.classes_))"
   ]
  },
  {
   "cell_type": "code",
   "execution_count": null,
   "metadata": {},
   "outputs": [],
   "source": []
  }
 ],
 "metadata": {
  "kernelspec": {
   "display_name": "Jupyter",
   "language": "python",
   "name": "python3"
  },
  "language_info": {
   "codemirror_mode": {
    "name": "ipython",
    "version": 3
   },
   "file_extension": ".py",
   "mimetype": "text/x-python",
   "name": "python",
   "nbconvert_exporter": "python",
   "pygments_lexer": "ipython3",
   "version": "3.12.4"
  }
 },
 "nbformat": 4,
 "nbformat_minor": 2
}
