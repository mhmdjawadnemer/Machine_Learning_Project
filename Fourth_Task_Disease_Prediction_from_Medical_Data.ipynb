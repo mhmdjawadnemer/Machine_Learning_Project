{
 "cells": [
  {
   "cell_type": "code",
   "execution_count": 21,
   "metadata": {},
   "outputs": [],
   "source": [
    "import pandas as pd\n",
    "import numpy as np\n",
    "import matplotlib.pyplot as plt\n",
    "import seaborn as sns\n",
    "from sklearn.model_selection import train_test_split\n",
    "from sklearn.preprocessing import StandardScaler, LabelEncoder\n",
    "from sklearn.metrics import classification_report, accuracy_score\n",
    "from tensorflow.keras.models import Sequential\n",
    "from tensorflow.keras.layers import Dense, Dropout"
   ]
  },
  {
   "cell_type": "code",
   "execution_count": 22,
   "metadata": {},
   "outputs": [
    {
     "name": "stdout",
     "output_type": "stream",
     "text": [
      "<class 'pandas.core.frame.DataFrame'>\n",
      "RangeIndex: 303 entries, 0 to 302\n",
      "Data columns (total 14 columns):\n",
      " #   Column    Non-Null Count  Dtype  \n",
      "---  ------    --------------  -----  \n",
      " 0   age       303 non-null    int64  \n",
      " 1   sex       303 non-null    int64  \n",
      " 2   cp        303 non-null    int64  \n",
      " 3   trestbps  303 non-null    int64  \n",
      " 4   chol      303 non-null    int64  \n",
      " 5   fbs       303 non-null    int64  \n",
      " 6   restecg   303 non-null    int64  \n",
      " 7   thalach   303 non-null    int64  \n",
      " 8   exang     303 non-null    int64  \n",
      " 9   oldpeak   303 non-null    float64\n",
      " 10  slope     303 non-null    int64  \n",
      " 11  ca        303 non-null    int64  \n",
      " 12  thal      303 non-null    int64  \n",
      " 13  target    303 non-null    int64  \n",
      "dtypes: float64(1), int64(13)\n",
      "memory usage: 33.3 KB\n",
      "None\n",
      "   age  sex  cp  trestbps  chol  fbs  restecg  thalach  exang  oldpeak  slope  \\\n",
      "0   63    1   3       145   233    1        0      150      0      2.3      0   \n",
      "1   37    1   2       130   250    0        1      187      0      3.5      0   \n",
      "2   41    0   1       130   204    0        0      172      0      1.4      2   \n",
      "3   56    1   1       120   236    0        1      178      0      0.8      2   \n",
      "4   57    0   0       120   354    0        1      163      1      0.6      2   \n",
      "\n",
      "   ca  thal  target  \n",
      "0   0     1       1  \n",
      "1   0     2       1  \n",
      "2   0     2       1  \n",
      "3   0     2       1  \n",
      "4   0     2       1  \n"
     ]
    }
   ],
   "source": [
    "# Load the dataset\n",
    "data = pd.read_csv('/Users/JAWAD/Videos/MLintern/heart.csv')\n",
    "\n",
    "# Display basic information about the dataset\n",
    "print(data.info())\n",
    "print(data.head())\n"
   ]
  },
  {
   "cell_type": "code",
   "execution_count": 23,
   "metadata": {},
   "outputs": [
    {
     "name": "stderr",
     "output_type": "stream",
     "text": [
      "C:\\Users\\JAWAD\\AppData\\Local\\Temp\\ipykernel_17848\\3704162711.py:3: FutureWarning: \n",
      "\n",
      "Passing `palette` without assigning `hue` is deprecated and will be removed in v0.14.0. Assign the `x` variable to `hue` and set `legend=False` for the same effect.\n",
      "\n",
      "  sns.countplot(x='target', data=data, palette='viridis')\n"
     ]
    },
    {
     "data": {
      "image/png": "[encoded data removed]",
      "text/plain": [
       "<Figure size 800x600 with 1 Axes>"
      ]
     },
     "metadata": {},
     "output_type": "display_data"
    }
   ],
   "source": [
    "# Display a summary of people who have heart disease (target = 1)\n",
    "plt.figure(figsize=(8, 6))\n",
    "sns.countplot(x='target', data=data, palette='viridis')\n",
    "plt.title('Distribution of Heart Disease Patients')\n",
    "plt.xlabel('Target (0: No Heart Disease, 1: Heart Disease)')\n",
    "plt.ylabel('Count')\n",
    "plt.show()\n",
    "\n",
    "# Fill missing values or drop rows/columns with missing values\n",
    "data = data.dropna()  # Or you can use data.fillna(method='ffill') or any other strategy\n",
    "\n",
    "# Encode categorical features\n",
    "data = pd.get_dummies(data, drop_first=True)\n",
    "\n",
    "# Separate features and target variable\n",
    "X = data.drop('target', axis=1)  # Replace 'target' with the actual name of your target column\n",
    "y = data['target']\n",
    "\n",
    "# Encode the target labels if necessary\n",
    "le = LabelEncoder()\n",
    "y = le.fit_transform(y)\n"
   ]
  },
  {
   "cell_type": "code",
   "execution_count": 24,
   "metadata": {},
   "outputs": [],
   "source": [
    "# Split the data\n",
    "X_train, X_test, y_train, y_test = train_test_split(X, y, test_size=0.2, random_state=42)\n",
    "\n",
    "# Normalize the features\n",
    "scaler = StandardScaler()\n",
    "X_train = scaler.fit_transform(X_train)\n",
    "X_test = scaler.transform(X_test)\n"
   ]
  },
  {
   "cell_type": "code",
   "execution_count": 25,
   "metadata": {},
   "outputs": [
    {
     "name": "stderr",
     "output_type": "stream",
     "text": [
      "c:\\Users\\JAWAD\\anaconda3\\envs\\Jupyter\\Lib\\site-packages\\keras\\src\\layers\\core\\dense.py:87: UserWarning: Do not pass an `input_shape`/`input_dim` argument to a layer. When using Sequential models, prefer using an `Input(shape)` object as the first layer in the model instead.\n",
      "  super().__init__(activity_regularizer=activity_regularizer, **kwargs)\n"
     ]
    }
   ],
   "source": [
    "# Build the model\n",
    "model = Sequential([\n",
    "    Dense(128, input_shape=(X_train.shape[1],), activation='relu'),\n",
    "    Dropout(0.5),\n",
    "    Dense(64, activation='relu'),\n",
    "    Dropout(0.5),\n",
    "    Dense(np.max(y_train) + 1, activation='softmax')  # Output layer adjusted based on number of unique classes\n",
    "])\n",
    "\n",
    "# Compile the model\n",
    "model.compile(optimizer='adam', loss='sparse_categorical_crossentropy', metrics=['accuracy'])\n"
   ]
  },
  {
   "cell_type": "code",
   "execution_count": 26,
   "metadata": {},
   "outputs": [
    {
     "name": "stdout",
     "output_type": "stream",
     "text": [
      "Epoch 1/50\n",
      "8/8 - 1s - 127ms/step - accuracy: 0.5041 - loss: 0.7699 - val_accuracy: 0.7541 - val_loss: 0.5920\n",
      "Epoch 2/50\n",
      "8/8 - 0s - 6ms/step - accuracy: 0.5661 - loss: 0.7041 - val_accuracy: 0.8689 - val_loss: 0.4935\n",
      "Epoch 3/50\n",
      "8/8 - 0s - 6ms/step - accuracy: 0.6983 - loss: 0.5672 - val_accuracy: 0.8689 - val_loss: 0.4315\n",
      "Epoch 4/50\n",
      "8/8 - 0s - 6ms/step - accuracy: 0.7727 - loss: 0.5148 - val_accuracy: 0.8852 - val_loss: 0.3921\n",
      "Epoch 5/50\n",
      "8/8 - 0s - 6ms/step - accuracy: 0.7355 - loss: 0.5105 - val_accuracy: 0.8852 - val_loss: 0.3625\n",
      "Epoch 6/50\n",
      "8/8 - 0s - 8ms/step - accuracy: 0.7314 - loss: 0.4917 - val_accuracy: 0.8852 - val_loss: 0.3473\n",
      "Epoch 7/50\n",
      "8/8 - 0s - 6ms/step - accuracy: 0.8017 - loss: 0.4356 - val_accuracy: 0.8852 - val_loss: 0.3368\n",
      "Epoch 8/50\n",
      "8/8 - 0s - 8ms/step - accuracy: 0.8182 - loss: 0.4343 - val_accuracy: 0.8852 - val_loss: 0.3300\n",
      "Epoch 9/50\n",
      "8/8 - 0s - 6ms/step - accuracy: 0.7851 - loss: 0.4376 - val_accuracy: 0.8852 - val_loss: 0.3244\n",
      "Epoch 10/50\n",
      "8/8 - 0s - 6ms/step - accuracy: 0.7934 - loss: 0.4176 - val_accuracy: 0.8852 - val_loss: 0.3275\n",
      "Epoch 11/50\n",
      "8/8 - 0s - 7ms/step - accuracy: 0.8347 - loss: 0.3921 - val_accuracy: 0.8852 - val_loss: 0.3375\n",
      "Epoch 12/50\n",
      "8/8 - 0s - 8ms/step - accuracy: 0.8140 - loss: 0.3983 - val_accuracy: 0.8852 - val_loss: 0.3409\n",
      "Epoch 13/50\n",
      "8/8 - 0s - 8ms/step - accuracy: 0.8471 - loss: 0.3484 - val_accuracy: 0.8852 - val_loss: 0.3407\n",
      "Epoch 14/50\n",
      "8/8 - 0s - 6ms/step - accuracy: 0.8347 - loss: 0.4058 - val_accuracy: 0.8852 - val_loss: 0.3369\n",
      "Epoch 15/50\n",
      "8/8 - 0s - 7ms/step - accuracy: 0.8306 - loss: 0.3547 - val_accuracy: 0.8852 - val_loss: 0.3398\n",
      "Epoch 16/50\n",
      "8/8 - 0s - 6ms/step - accuracy: 0.8430 - loss: 0.3485 - val_accuracy: 0.8852 - val_loss: 0.3425\n",
      "Epoch 17/50\n",
      "8/8 - 0s - 6ms/step - accuracy: 0.8388 - loss: 0.3651 - val_accuracy: 0.8852 - val_loss: 0.3437\n",
      "Epoch 18/50\n",
      "8/8 - 0s - 7ms/step - accuracy: 0.8347 - loss: 0.3571 - val_accuracy: 0.8852 - val_loss: 0.3455\n",
      "Epoch 19/50\n",
      "8/8 - 0s - 6ms/step - accuracy: 0.8388 - loss: 0.3850 - val_accuracy: 0.8852 - val_loss: 0.3530\n",
      "Epoch 20/50\n",
      "8/8 - 0s - 6ms/step - accuracy: 0.8595 - loss: 0.3551 - val_accuracy: 0.8689 - val_loss: 0.3579\n",
      "Epoch 21/50\n",
      "8/8 - 0s - 7ms/step - accuracy: 0.8264 - loss: 0.3528 - val_accuracy: 0.8852 - val_loss: 0.3562\n",
      "Epoch 22/50\n",
      "8/8 - 0s - 7ms/step - accuracy: 0.8760 - loss: 0.3288 - val_accuracy: 0.8852 - val_loss: 0.3570\n",
      "Epoch 23/50\n",
      "8/8 - 0s - 7ms/step - accuracy: 0.8347 - loss: 0.3563 - val_accuracy: 0.8852 - val_loss: 0.3603\n",
      "Epoch 24/50\n",
      "8/8 - 0s - 7ms/step - accuracy: 0.8430 - loss: 0.3129 - val_accuracy: 0.8852 - val_loss: 0.3663\n",
      "Epoch 25/50\n",
      "8/8 - 0s - 7ms/step - accuracy: 0.8595 - loss: 0.3271 - val_accuracy: 0.8852 - val_loss: 0.3699\n",
      "Epoch 26/50\n",
      "8/8 - 0s - 6ms/step - accuracy: 0.8636 - loss: 0.3288 - val_accuracy: 0.8689 - val_loss: 0.3737\n",
      "Epoch 27/50\n",
      "8/8 - 0s - 7ms/step - accuracy: 0.8636 - loss: 0.3228 - val_accuracy: 0.8689 - val_loss: 0.3732\n",
      "Epoch 28/50\n",
      "8/8 - 0s - 7ms/step - accuracy: 0.8223 - loss: 0.3434 - val_accuracy: 0.8689 - val_loss: 0.3752\n",
      "Epoch 29/50\n",
      "8/8 - 0s - 8ms/step - accuracy: 0.8636 - loss: 0.3189 - val_accuracy: 0.8852 - val_loss: 0.3737\n",
      "Epoch 30/50\n",
      "8/8 - 0s - 7ms/step - accuracy: 0.8678 - loss: 0.3098 - val_accuracy: 0.8852 - val_loss: 0.3727\n",
      "Epoch 31/50\n",
      "8/8 - 0s - 7ms/step - accuracy: 0.8347 - loss: 0.3387 - val_accuracy: 0.8852 - val_loss: 0.3720\n",
      "Epoch 32/50\n",
      "8/8 - 0s - 7ms/step - accuracy: 0.8719 - loss: 0.3003 - val_accuracy: 0.8852 - val_loss: 0.3757\n",
      "Epoch 33/50\n",
      "8/8 - 0s - 9ms/step - accuracy: 0.8678 - loss: 0.3086 - val_accuracy: 0.8689 - val_loss: 0.3877\n",
      "Epoch 34/50\n",
      "8/8 - 0s - 8ms/step - accuracy: 0.8595 - loss: 0.3298 - val_accuracy: 0.8689 - val_loss: 0.3950\n",
      "Epoch 35/50\n",
      "8/8 - 0s - 7ms/step - accuracy: 0.8802 - loss: 0.3077 - val_accuracy: 0.8689 - val_loss: 0.3992\n",
      "Epoch 36/50\n",
      "8/8 - 0s - 7ms/step - accuracy: 0.8595 - loss: 0.2949 - val_accuracy: 0.8689 - val_loss: 0.4025\n",
      "Epoch 37/50\n",
      "8/8 - 0s - 10ms/step - accuracy: 0.8678 - loss: 0.2863 - val_accuracy: 0.8689 - val_loss: 0.4034\n",
      "Epoch 38/50\n",
      "8/8 - 0s - 7ms/step - accuracy: 0.8678 - loss: 0.3286 - val_accuracy: 0.8689 - val_loss: 0.4039\n",
      "Epoch 39/50\n",
      "8/8 - 0s - 7ms/step - accuracy: 0.8678 - loss: 0.3241 - val_accuracy: 0.8689 - val_loss: 0.4072\n",
      "Epoch 40/50\n",
      "8/8 - 0s - 7ms/step - accuracy: 0.8926 - loss: 0.2702 - val_accuracy: 0.8689 - val_loss: 0.4114\n",
      "Epoch 41/50\n",
      "8/8 - 0s - 7ms/step - accuracy: 0.8595 - loss: 0.2893 - val_accuracy: 0.8689 - val_loss: 0.4146\n",
      "Epoch 42/50\n",
      "8/8 - 0s - 7ms/step - accuracy: 0.8802 - loss: 0.2762 - val_accuracy: 0.8689 - val_loss: 0.4160\n",
      "Epoch 43/50\n",
      "8/8 - 0s - 7ms/step - accuracy: 0.8719 - loss: 0.2807 - val_accuracy: 0.8689 - val_loss: 0.4213\n",
      "Epoch 44/50\n",
      "8/8 - 0s - 8ms/step - accuracy: 0.8967 - loss: 0.2793 - val_accuracy: 0.8852 - val_loss: 0.4244\n",
      "Epoch 45/50\n",
      "8/8 - 0s - 8ms/step - accuracy: 0.8719 - loss: 0.3257 - val_accuracy: 0.8689 - val_loss: 0.4343\n",
      "Epoch 46/50\n",
      "8/8 - 0s - 8ms/step - accuracy: 0.8884 - loss: 0.2843 - val_accuracy: 0.8689 - val_loss: 0.4413\n",
      "Epoch 47/50\n",
      "8/8 - 0s - 8ms/step - accuracy: 0.8802 - loss: 0.2851 - val_accuracy: 0.8689 - val_loss: 0.4452\n",
      "Epoch 48/50\n",
      "8/8 - 0s - 8ms/step - accuracy: 0.8760 - loss: 0.2794 - val_accuracy: 0.8689 - val_loss: 0.4450\n",
      "Epoch 49/50\n",
      "8/8 - 0s - 8ms/step - accuracy: 0.8843 - loss: 0.2577 - val_accuracy: 0.8689 - val_loss: 0.4448\n",
      "Epoch 50/50\n",
      "8/8 - 0s - 7ms/step - accuracy: 0.8760 - loss: 0.2899 - val_accuracy: 0.8689 - val_loss: 0.4456\n"
     ]
    }
   ],
   "source": [
    "# Train the model\n",
    "history = model.fit(X_train, y_train, validation_data=(X_test, y_test), epochs=50, batch_size=32, verbose=2)\n"
   ]
  },
  {
   "cell_type": "code",
   "execution_count": 27,
   "metadata": {},
   "outputs": [
    {
     "name": "stdout",
     "output_type": "stream",
     "text": [
      "Test loss: 0.4455930292606354\n",
      "Test accuracy: 0.868852436542511\n"
     ]
    }
   ],
   "source": [
    "# Evaluate the model\n",
    "score = model.evaluate(X_test, y_test, verbose=0)\n",
    "print('Test loss:', score[0])\n",
    "print('Test accuracy:', score[1])\n"
   ]
  },
  {
   "cell_type": "code",
   "execution_count": 28,
   "metadata": {},
   "outputs": [
    {
     "name": "stdout",
     "output_type": "stream",
     "text": [
      "\u001b[1m2/2\u001b[0m \u001b[32m━━━━━━━━━━━━━━━━━━━━\u001b[0m\u001b[37m\u001b[0m \u001b[1m0s\u001b[0m 27ms/step\n",
      "Accuracy: 0.8688524590163934\n",
      "              precision    recall  f1-score   support\n",
      "\n",
      "           0       0.86      0.86      0.86        29\n",
      "           1       0.88      0.88      0.88        32\n",
      "\n",
      "    accuracy                           0.87        61\n",
      "   macro avg       0.87      0.87      0.87        61\n",
      "weighted avg       0.87      0.87      0.87        61\n",
      "\n"
     ]
    }
   ],
   "source": [
    "# Make predictions\n",
    "y_pred = model.predict(X_test)\n",
    "y_pred_classes = np.argmax(y_pred, axis=1)\n",
    "y_true = y_test  # Assuming y_test is already integer-encoded\n",
    "\n",
    "# Print accuracy and classification report\n",
    "print(\"Accuracy:\", accuracy_score(y_true, y_pred_classes))\n",
    "\n",
    "# Convert le.classes_ to list of strings for classification_report\n",
    "target_names = list(map(str, le.classes_))\n",
    "print(classification_report(y_true, y_pred_classes, target_names=target_names))\n"
   ]
  },
  {
   "cell_type": "code",
   "execution_count": 29,
   "metadata": {},
   "outputs": [
    {
     "data": {
      "image/png": "[encoded data removed]",
      "text/plain": [
       "<Figure size 800x600 with 1 Axes>"
      ]
     },
     "metadata": {},
     "output_type": "display_data"
    }
   ],
   "source": [
    "# Visualize prediction results (example: confusion matrix)\n",
    "from sklearn.metrics import confusion_matrix\n",
    "\n",
    "# Generate confusion matrix\n",
    "conf_mat = confusion_matrix(y_true, y_pred_classes)\n",
    "\n",
    "# Plot confusion matrix\n",
    "plt.figure(figsize=(8, 6))\n",
    "sns.heatmap(conf_mat, annot=True, fmt='d', cmap='Blues', cbar=False)\n",
    "plt.xlabel('Predicted Labels')\n",
    "plt.ylabel('True Labels')\n",
    "plt.title('Confusion Matrix')\n",
    "plt.show()\n"
   ]
  }
 ],
 "metadata": {
  "kernelspec": {
   "display_name": "Jupyter",
   "language": "python",
   "name": "python3"
  },
  "language_info": {
   "codemirror_mode": {
    "name": "ipython",
    "version": 3
   },
   "file_extension": ".py",
   "mimetype": "text/x-python",
   "name": "python",
   "nbconvert_exporter": "python",
   "pygments_lexer": "ipython3",
   "version": "3.12.4"
  }
 },
 "nbformat": 4,
 "nbformat_minor": 2
}
